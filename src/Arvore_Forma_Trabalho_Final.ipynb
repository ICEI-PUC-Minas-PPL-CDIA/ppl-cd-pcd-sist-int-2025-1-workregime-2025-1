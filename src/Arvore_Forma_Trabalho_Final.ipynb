{
 "cells": [
  {
   "cell_type": "code",
   "execution_count": null,
   "id": "1b0caf41",
   "metadata": {},
   "outputs": [],
   "source": [
    "!pip install pandas scikit-learn matplotlib pydotplus dtreeviz\n",
    "\n",
    "import pandas as pd\n",
    "from sklearn.tree import DecisionTreeClassifier\n",
    "from sklearn.metrics import accuracy_score, classification_report, confusion_matrix\n",
    "from sklearn.feature_extraction import DictVectorizer\n",
    "from sklearn.preprocessing import LabelEncoder\n",
    "from sklearn.model_selection import train_test_split\n",
    "import matplotlib.pyplot as plt"
   ]
  },
  {
   "cell_type": "code",
   "execution_count": null,
   "id": "246693c2",
   "metadata": {},
   "outputs": [],
   "source": [
    "df = pd.read_csv(\"data_tratada.csv\")\n",
    "\n",
    "print(\"\\nDimensões:\", df.shape)\n",
    "print(\"\\nCampos:\", df.columns)\n",
    "print(df.describe())\n",
    "\n",
    "# Remover registros com alvo ausente\n",
    "df = df.dropna(subset=['Forma de trabalho ideal'])\n",
    "\n",
    "# Separar variáveis independentes e alvo\n",
    "X_dict = df.drop(columns=['Forma de trabalho ideal', 'Cargo atual']).to_dict(orient='records')\n",
    "vect = DictVectorizer(sparse=False)\n",
    "X = vect.fit_transform(X_dict)\n",
    "\n",
    "le = LabelEncoder()\n",
    "y = le.fit_transform(df['Forma de trabalho ideal'])\n",
    "\n",
    "# Dividir os dados corretamente\n",
    "X_train, X_test, y_train, y_test = train_test_split(X, y, test_size=0.3, random_state=42)\n",
    "\n",
    "print(\"Shape dos dados de treino:\", X_train.shape)\n",
    "print(\"Shape dos dados de teste:\", X_test.shape)"
   ]
  },
  {
   "cell_type": "code",
   "execution_count": null,
   "id": "b99eb138",
   "metadata": {},
   "outputs": [],
   "source": [
    "# Definir modelo com limitação de profundidade e folhas mínimas\n",
    "treeForma = DecisionTreeClassifier(random_state=0, criterion='entropy', max_depth=5, min_samples_leaf=4)\n",
    "treeForma.fit(X_train, y_train)\n",
    "\n",
    "# Avaliação no conjunto de teste\n",
    "y_pred = treeForma.predict(X_test)\n",
    "print(\"Acurácia no teste:\", accuracy_score(y_test, y_pred))\n",
    "print(classification_report(y_test, y_pred))\n",
    "cnf_matrix = confusion_matrix(y_test, y_pred)\n",
    "cnf_table = pd.DataFrame(cnf_matrix, index=[f\"Real={c}\" for c in le.classes_], columns=[f\"Prev={c}\" for c in le.classes_])\n",
    "print(cnf_table)"
   ]
  },
  {
   "cell_type": "code",
   "execution_count": null,
   "id": "785c7847",
   "metadata": {},
   "outputs": [],
   "source": [
    "# Exibir importâncias dos atributos\n",
    "importances = pd.Series(treeForma.feature_importances_, index=vect.feature_names_)\n",
    "importances = importances[importances > 0].sort_values(ascending=False)\n",
    "print(\"\\nImportância dos atributos:\")\n",
    "print(importances)\n",
    "\n",
    "# Visualizar graficamente\n",
    "importances.plot(kind='barh', figsize=(10, 6), title='Importância dos Atributos')\n",
    "plt.gca().invert_yaxis()\n",
    "plt.show()"
   ]
  },
  {
   "cell_type": "code",
   "execution_count": null,
   "id": "c86c3a63",
   "metadata": {},
   "outputs": [],
   "source": [
    "# Visualizar a árvore com profundidade limitada\n",
    "plt.figure(figsize=(20, 10))\n",
    "tree.plot_tree(treeForma,\n",
    "               feature_names=vect.feature_names_,\n",
    "               class_names=le.classes_,\n",
    "               filled=True,\n",
    "               rounded=True)\n",
    "plt.show()"
   ]
  }
 ],
 "metadata": {
  "language_info": {
   "name": "python"
  }
 },
 "nbformat": 4,
 "nbformat_minor": 5
}
