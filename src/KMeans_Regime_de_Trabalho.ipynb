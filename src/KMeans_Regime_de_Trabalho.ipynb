{
  "nbformat": 4,
  "nbformat_minor": 0,
  "metadata": {
    "colab": {
      "provenance": []
    },
    "kernelspec": {
      "name": "python3",
      "display_name": "Python 3"
    },
    "language_info": {
      "name": "python"
    }
  },
  "cells": [
    {
      "cell_type": "code",
      "execution_count": 41,
      "metadata": {
        "id": "mvOns3eIyFiU"
      },
      "outputs": [],
      "source": [
        "import pandas as pd\n",
        "from sklearn.preprocessing import LabelEncoder, StandardScaler\n",
        "from sklearn.metrics import confusion_matrix\n",
        "from sklearn.cluster import KMeans\n",
        "\n",
        "# 1. Carregar os dados\n",
        "df = pd.read_csv(\"data_tratada.csv\")"
      ]
    },
    {
      "cell_type": "markdown",
      "source": [
        "### Transforma valores categóricos para numéricos"
      ],
      "metadata": {
        "id": "82eud2u9YqQ0"
      }
    },
    {
      "cell_type": "code",
      "source": [
        "# 2. Codificar colunas categóricas\n",
        "df_encoded = df.copy()\n",
        "\n",
        "# 3. Remover linhas com valores ausentes (NaN)\n",
        "df_encoded = df_encoded.dropna()\n",
        "\n",
        "categorical_columns = df_encoded.select_dtypes(include=[\"object\"]).columns\n",
        "\n",
        "label_encoders = {}\n",
        "for col in categorical_columns:\n",
        "    le = LabelEncoder()\n",
        "    df_encoded[col] = le.fit_transform(df_encoded[col].astype(str))\n",
        "    label_encoders[col] = le\n",
        "\n",
        "for col, le in label_encoders.items():\n",
        "  mapeamento = dict(zip(le.classes_, le.transform(le.classes_)))\n",
        "  print(mapeamento)"
      ],
      "metadata": {
        "colab": {
          "base_uri": "https://localhost:8080/"
        },
        "id": "YaVK-jxRYkw-",
        "outputId": "391dd891-6aa0-4e3d-cc25-9c942c2473fc"
      },
      "execution_count": 33,
      "outputs": [
        {
          "output_type": "stream",
          "name": "stdout",
          "text": [
            "{'Feminino': np.int64(0), 'Masculino': np.int64(1), 'Outro': np.int64(2), 'Prefiro não informar': np.int64(3)}\n",
            "{'Amarela': np.int64(0), 'Branca': np.int64(1), 'Indígena': np.int64(2), 'Outra': np.int64(3), 'Parda': np.int64(4), 'Prefiro não informar': np.int64(5), 'Preta': np.int64(6)}\n",
            "{'Não': np.int64(0), 'Prefiro não informar': np.int64(1), 'Sim': np.int64(2)}\n",
            "{'Acre (AC)': np.int64(0), 'Alagoas (AL)': np.int64(1), 'Amapá (AP)': np.int64(2), 'Amazonas (AM)': np.int64(3), 'Bahia (BA)': np.int64(4), 'Ceará (CE)': np.int64(5), 'Distrito Federal (DF)': np.int64(6), 'Espírito Santo (ES)': np.int64(7), 'Goiás (GO)': np.int64(8), 'Maranhão (MA)': np.int64(9), 'Mato Grosso (MT)': np.int64(10), 'Mato Grosso do Sul (MS)': np.int64(11), 'Minas Gerais (MG)': np.int64(12), 'Paraná (PR)': np.int64(13), 'Paraíba (PB)': np.int64(14), 'Pará (PA)': np.int64(15), 'Pernambuco (PE)': np.int64(16), 'Piauí (PI)': np.int64(17), 'Rio Grande do Norte (RN)': np.int64(18), 'Rio Grande do Sul (RS)': np.int64(19), 'Rio de Janeiro (RJ)': np.int64(20), 'Rondônia (RO)': np.int64(21), 'Santa Catarina (SC)': np.int64(22), 'Sergipe (SE)': np.int64(23), 'São Paulo (SP)': np.int64(24), 'Tocantins (TO)': np.int64(25)}\n",
            "{'Centro-oeste': np.int64(0), 'Nordeste': np.int64(1), 'Norte': np.int64(2), 'Sudeste': np.int64(3), 'Sul': np.int64(4)}\n",
            "{'Doutorado ou Phd': np.int64(0), 'Estudante de Graduação': np.int64(1), 'Graduação/Bacharelado': np.int64(2), 'Mestrado': np.int64(3), 'Não tenho graduação formal': np.int64(4), 'Prefiro não informar': np.int64(5), 'Pós-graduação': np.int64(6)}\n",
            "{'Ciências Biológicas/ Farmácia/ Medicina/ Área da Saúde': np.int64(0), 'Ciências Sociais': np.int64(1), 'Computação / Engenharia de Software / Sistemas de Informação/ TI': np.int64(2), 'Economia/ Administração / Contabilidade / Finanças/ Negócios': np.int64(3), 'Estatística/ Matemática / Matemática Computacional/ Ciências Atuariais': np.int64(4), 'Marketing / Publicidade / Comunicação / Jornalismo': np.int64(5), 'Não informado': np.int64(6), 'Outra opção': np.int64(7), 'Outras Engenharias': np.int64(8), 'Química / Física': np.int64(9)}\n",
            "{'Empreendedor ou Empregado (CNPJ)': np.int64(0), 'Empregado (CLT)': np.int64(1), 'Estagiário': np.int64(2), 'Freelancer': np.int64(3), 'Prefiro não informar': np.int64(4), 'Servidor Público': np.int64(5), 'Vivo fora do Brasil e trabalho para empresa de fora do Brasil': np.int64(6), 'Vivo no Brasil e trabalho remoto para empresa de fora do Brasil': np.int64(7)}\n",
            "{'Analista de BI/BI Analyst': np.int64(0), 'Analista de Dados/Data Analyst': np.int64(1), 'Analista de Inteligência de Mercado/Market Intelligence': np.int64(2), 'Analista de Negócios/Business Analyst': np.int64(3), 'Analista de Suporte/Analista Técnico': np.int64(4), 'Analytics Engineer': np.int64(5), 'Cientista de Dados/Data Scientist': np.int64(6), 'DBA/Administrador de Banco de Dados': np.int64(7), 'Data Product Manager/ Product Manager (PM/APM/DPM/GPM/PO)': np.int64(8), 'Desenvolvedor/ Engenheiro de Software/ Analista de Sistemas': np.int64(9), 'Economista': np.int64(10), 'Engenheiro de Dados/Arquiteto de Dados/Data Engineer/Data Architect': np.int64(11), 'Engenheiro de Machine Learning/ML Engineer/AI Engineer': np.int64(12), 'Estatístico': np.int64(13), 'Não informado': np.int64(14), 'Outra Opção': np.int64(15), 'Outras Engenharias (não inclui dev)': np.int64(16), 'Professor/Pesquisador': np.int64(17)}\n",
            "{'Júnior': np.int64(0), 'Não informado': np.int64(1), 'Pleno': np.int64(2), 'Sênior': np.int64(3)}\n",
            "{'Acima de R$ 40.001/mês': np.int64(0), 'Menos de R$ 1.000/mês': np.int64(1), 'de R$ 1.001/mês a R$ 2.000/mês': np.int64(2), 'de R$ 101/mês a R$ 2.000/mês': np.int64(3), 'de R$ 12.001/mês a R$ 16.000/mês': np.int64(4), 'de R$ 16.001/mês a R$ 20.000/mês': np.int64(5), 'de R$ 2.001/mês a R$ 3.000/mês': np.int64(6), 'de R$ 20.001/mês a R$ 25.000/mês': np.int64(7), 'de R$ 25.001/mês a R$ 30.000/mês': np.int64(8), 'de R$ 3.001/mês a R$ 4.000/mês': np.int64(9), 'de R$ 30.001/mês a R$ 40.000/mês': np.int64(10), 'de R$ 4.001/mês a R$ 6.000/mês': np.int64(11), 'de R$ 6.001/mês a R$ 8.000/mês': np.int64(12), 'de R$ 8.001/mês a R$ 12.000/mês': np.int64(13)}\n",
            "{'Mais de 10 anos': np.int64(0), 'Menos de 1 ano': np.int64(1), 'Não tenho experiência na área de dados': np.int64(2), 'de 1 a 2 anos': np.int64(3), 'de 3 a 4 anos': np.int64(4), 'de 4 a 6 anos': np.int64(5), 'de 5 a 6 anos': np.int64(6), 'de 7 a 10 anos': np.int64(7)}\n",
            "{'Modelo 100% presencial': np.int64(0), 'Modelo 100% remoto': np.int64(1), 'Modelo híbrido com dias fixos de trabalho presencial': np.int64(2), 'Modelo híbrido flexível (o funcionário tem liberdade para escolher quando estar no escritório presencialmente)': np.int64(3), 'Sim, ocorreram layoffs/demissões em massa na empresa em que trabalho mas não fui afetado': np.int64(4)}\n",
            "{'Modelo 100% presencial': np.int64(0), 'Modelo 100% remoto': np.int64(1), 'Modelo híbrido com dias fixos de trabalho presencial': np.int64(2), 'Modelo híbrido flexível (o funcionário tem liberdade para escolher quando estar no escritório presencialmente)': np.int64(3)}\n"
          ]
        }
      ]
    },
    {
      "cell_type": "markdown",
      "source": [
        "### Padroniza os dados\n",
        "Isso é feito para que o KMeans de importância para todos os dados da mesma forma"
      ],
      "metadata": {
        "id": "duwmz-b5Y2eb"
      }
    },
    {
      "cell_type": "code",
      "source": [
        "# 4. Padronizar os dados\n",
        "scaler = StandardScaler()\n",
        "X_scaled = scaler.fit_transform(df_encoded)"
      ],
      "metadata": {
        "id": "g0ew7-GZYlVc"
      },
      "execution_count": 34,
      "outputs": []
    },
    {
      "cell_type": "markdown",
      "source": [
        "### Método do cotovelo"
      ],
      "metadata": {
        "id": "rgBGQsc6dDsa"
      }
    },
    {
      "cell_type": "code",
      "source": [
        "import matplotlib.pyplot as plt\n",
        "inertias = []\n",
        "\n",
        "# 5. Aplicar KMeans\n",
        "for i in range(1, 11):\n",
        "  kmeans = KMeans(n_clusters=i, random_state=42, n_init=10)\n",
        "  clusters = kmeans.fit_predict(X_scaled)\n",
        "  inertias.append(kmeans.inertia_)\n",
        "\n",
        "plt.plot(range(1,11), inertias, marker='o')\n",
        "plt.title('Elbow method')\n",
        "plt.xlabel('Number of clusters')\n",
        "plt.ylabel('Inertia')\n",
        "plt.show()"
      ],
      "metadata": {
        "colab": {
          "base_uri": "https://localhost:8080/",
          "height": 472
        },
        "id": "icxy0pDCdG5a",
        "outputId": "9b1420fb-c601-4ffe-e1a9-eab0b7b62a1e"
      },
      "execution_count": 35,
      "outputs": [
        {
          "output_type": "display_data",
          "data": {
            "text/plain": [
              "<Figure size 640x480 with 1 Axes>"
            ],
            "image/png": "[encoded data removed]"
          },
          "metadata": {}
        }
      ]
    },
    {
      "cell_type": "markdown",
      "source": [
        "### Treina o KMeans"
      ],
      "metadata": {
        "id": "HQmSKFZ9ZOvc"
      }
    },
    {
      "cell_type": "code",
      "source": [
        "# 5. Aplicar KMeans\n",
        "kmeans = KMeans(n_clusters=3, random_state=42, n_init=10)\n",
        "clusters = kmeans.fit_predict(X_scaled)\n",
        "\n",
        "# 6. Adicionar a coluna de cluster\n",
        "df_encoded[\"Cluster\"] = clusters\n",
        "\n",
        "rotulos = kmeans.labels_\n",
        "print(\"Rótulos dos clusters:\", rotulos)\n",
        "\n",
        "centroides = kmeans.cluster_centers_\n",
        "print(\"Centroides dos clusters:\", centroides)\n",
        "\n",
        "# Matriz de confusão\n",
        "conf_matrix = confusion_matrix(df_encoded[\"Cluster\"], clusters)\n",
        "print(\"Matriz de confusão:\")\n",
        "print(conf_matrix)\n",
        "\n",
        "cluster_labels = sorted(df_encoded[\"Cluster\"].unique()) # Get unique cluster labels (0, 1, 2)\n",
        "cnf_table = pd.DataFrame(conf_matrix,\n",
        "                         index=[f\"Cluster Real={c}\" for c in cluster_labels],\n",
        "                         columns=[f\"Cluster Previsto={c}\" for c in cluster_labels])\n",
        "print(cnf_table)\n"
      ],
      "metadata": {
        "colab": {
          "base_uri": "https://localhost:8080/"
        },
        "id": "IQ7jdgB6X5lU",
        "outputId": "e2b62b71-e56f-4868-8d0d-368e6aa67363"
      },
      "execution_count": 44,
      "outputs": [
        {
          "output_type": "stream",
          "name": "stdout",
          "text": [
            "Rótulos dos clusters: [1 1 1 ... 0 1 1]\n",
            "Centroides dos clusters: [[-0.04810833  0.0228444   1.40172117  1.39255573  0.01099314 -0.0809202\n",
            "  -0.21011936  0.57009865  0.38072631  0.63464735  0.52575658  0.56388946\n",
            "  -0.02144292 -0.06398685 -0.03158451 -0.0668437  -0.02975104  0.03405519\n",
            "  -0.02016485  0.00249944 -0.02294635]\n",
            " [ 0.01531095 -0.01987136 -0.6569418  -0.64815174 -0.03194477  0.32519247\n",
            "   0.02733733  0.61060077  0.59113822  0.35928033  0.61224671  0.61111646\n",
            "  -0.01158416  0.07964574 -0.00923832  0.04757262  0.02169458 -0.05693992\n",
            "   0.02447255  0.11624551  0.05838313]\n",
            " [ 0.01654562  0.01538337 -0.0932473  -0.1009269   0.04868291 -0.52443085\n",
            "   0.14518079 -1.65684718 -1.44466575 -1.25341987 -1.6186049  -1.65201817\n",
            "   0.04132608 -0.0873271   0.04644036 -0.02551454 -0.01231661  0.07331359\n",
            "  -0.02636383 -0.21672075 -0.08631652]]\n",
            "Matriz de confusão:\n",
            "[[1172    0    0]\n",
            " [   0 2322    0]\n",
            " [   0    0 1259]]\n",
            "                Cluster Previsto=0  Cluster Previsto=1  Cluster Previsto=2\n",
            "Cluster Real=0                1172                   0                   0\n",
            "Cluster Real=1                   0                2322                   0\n",
            "Cluster Real=2                   0                   0                1259\n"
          ]
        }
      ]
    },
    {
      "cell_type": "markdown",
      "source": [
        "### Quantos dados foram treinados em cada cluster"
      ],
      "metadata": {
        "id": "AmzuUXpCZVIs"
      }
    },
    {
      "cell_type": "code",
      "source": [
        "# 7. Mostrar quantos dados em cada grupo\n",
        "print(df_encoded[\"Cluster\"].value_counts().sort_index())"
      ],
      "metadata": {
        "colab": {
          "base_uri": "https://localhost:8080/"
        },
        "id": "57zVuDtJZXys",
        "outputId": "399d02d0-923b-469f-80b8-6fa8624c95fc"
      },
      "execution_count": 45,
      "outputs": [
        {
          "output_type": "stream",
          "name": "stdout",
          "text": [
            "Cluster\n",
            "0    1172\n",
            "1    2322\n",
            "2    1259\n",
            "Name: count, dtype: int64\n"
          ]
        }
      ]
    },
    {
      "cell_type": "markdown",
      "source": [
        "### A média de cada coluna em cada cluster"
      ],
      "metadata": {
        "id": "jhLaDUsvZZ07"
      }
    },
    {
      "cell_type": "code",
      "source": [
        "df_encoded.groupby(\"Cluster\").mean()"
      ],
      "metadata": {
        "colab": {
          "base_uri": "https://localhost:8080/",
          "height": 239
        },
        "id": "mXvwkKjwygSk",
        "outputId": "0c2264fa-c5a7-4a68-cdc8-0a2c33ea2746"
      },
      "execution_count": 38,
      "outputs": [
        {
          "output_type": "execute_result",
          "data": {
            "text/plain": [
              "             Idade    Genero  Cor/Raca  Trabalho domestico       PCD  \\\n",
              "Cluster                                                                \n",
              "0        31.530717  0.783276  4.469283           17.320137  0.048635   \n",
              "1        31.991817  0.764427  0.957364           16.524763  0.036176   \n",
              "2        32.000794  0.779984  1.918983           16.738046  0.059571   \n",
              "\n",
              "         Estado onde mora  Região onde mora  Roubos de veículo  \\\n",
              "Cluster                                                          \n",
              "0               17.481229          2.544369          89.494027   \n",
              "1               20.201981          2.798450          90.891473   \n",
              "2               14.509929          2.924543          12.657665   \n",
              "\n",
              "         Roubos de carro  Roubos de moto  ...  Roubos fora do domicilio  \\\n",
              "Cluster                                   ...                             \n",
              "0              56.976109       32.290102  ...                547.230375   \n",
              "1              62.565891       28.224806  ...                557.139535   \n",
              "2               8.482923        4.416203  ...                 82.289118   \n",
              "\n",
              "         Nivel de ensino  Area de formação  Situação atual de trabalho  \\\n",
              "Cluster                                                                  \n",
              "0               3.364334          3.914676                    1.248294   \n",
              "1               3.384582          4.288975                    1.278639   \n",
              "2               3.493249          3.853852                    1.354249   \n",
              "\n",
              "         Cargo atual     Nivel  Faixa salarial  Tempo de experiencia  \\\n",
              "Cluster                                                                \n",
              "0           6.912969  1.636519        8.970990              3.387372   \n",
              "1           7.540913  1.694229        8.625754              3.477175   \n",
              "2           7.139793  1.656076        9.119936              3.374901   \n",
              "\n",
              "         Forma de trabalho atual  Forma de trabalho ideal  \n",
              "Cluster                                                    \n",
              "0                       1.412116                 1.941126  \n",
              "1                       1.524978                 2.021533  \n",
              "2                       1.194599                 1.878475  \n",
              "\n",
              "[3 rows x 21 columns]"
            ],
            "text/html": [
              "\n",
              "  <div id=\"df-14ed6436-d33b-42d0-8758-cb2f1e20e2f4\" class=\"colab-df-container\">\n",
              "    <div>\n",
              "<style scoped>\n",
              "    .dataframe tbody tr th:only-of-type {\n",
              "        vertical-align: middle;\n",
              "    }\n",
              "\n",
              "    .dataframe tbody tr th {\n",
              "        vertical-align: top;\n",
              "    }\n",
              "\n",
              "    .dataframe thead th {\n",
              "        text-align: right;\n",
              "    }\n",
              "</style>\n",
              "<table border=\"1\" class=\"dataframe\">\n",
              "  <thead>\n",
              "    <tr style=\"text-align: right;\">\n",
              "      <th></th>\n",
              "      <th>Idade</th>\n",
              "      <th>Genero</th>\n",
              "      <th>Cor/Raca</th>\n",
              "      <th>Trabalho domestico</th>\n",
              "      <th>PCD</th>\n",
              "      <th>Estado onde mora</th>\n",
              "      <th>Região onde mora</th>\n",
              "      <th>Roubos de veículo</th>\n",
              "      <th>Roubos de carro</th>\n",
              "      <th>Roubos de moto</th>\n",
              "      <th>...</th>\n",
              "      <th>Roubos fora do domicilio</th>\n",
              "      <th>Nivel de ensino</th>\n",
              "      <th>Area de formação</th>\n",
              "      <th>Situação atual de trabalho</th>\n",
              "      <th>Cargo atual</th>\n",
              "      <th>Nivel</th>\n",
              "      <th>Faixa salarial</th>\n",
              "      <th>Tempo de experiencia</th>\n",
              "      <th>Forma de trabalho atual</th>\n",
              "      <th>Forma de trabalho ideal</th>\n",
              "    </tr>\n",
              "    <tr>\n",
              "      <th>Cluster</th>\n",
              "      <th></th>\n",
              "      <th></th>\n",
              "      <th></th>\n",
              "      <th></th>\n",
              "      <th></th>\n",
              "      <th></th>\n",
              "      <th></th>\n",
              "      <th></th>\n",
              "      <th></th>\n",
              "      <th></th>\n",
              "      <th></th>\n",
              "      <th></th>\n",
              "      <th></th>\n",
              "      <th></th>\n",
              "      <th></th>\n",
              "      <th></th>\n",
              "      <th></th>\n",
              "      <th></th>\n",
              "      <th></th>\n",
              "      <th></th>\n",
              "      <th></th>\n",
              "    </tr>\n",
              "  </thead>\n",
              "  <tbody>\n",
              "    <tr>\n",
              "      <th>0</th>\n",
              "      <td>31.530717</td>\n",
              "      <td>0.783276</td>\n",
              "      <td>4.469283</td>\n",
              "      <td>17.320137</td>\n",
              "      <td>0.048635</td>\n",
              "      <td>17.481229</td>\n",
              "      <td>2.544369</td>\n",
              "      <td>89.494027</td>\n",
              "      <td>56.976109</td>\n",
              "      <td>32.290102</td>\n",
              "      <td>...</td>\n",
              "      <td>547.230375</td>\n",
              "      <td>3.364334</td>\n",
              "      <td>3.914676</td>\n",
              "      <td>1.248294</td>\n",
              "      <td>6.912969</td>\n",
              "      <td>1.636519</td>\n",
              "      <td>8.970990</td>\n",
              "      <td>3.387372</td>\n",
              "      <td>1.412116</td>\n",
              "      <td>1.941126</td>\n",
              "    </tr>\n",
              "    <tr>\n",
              "      <th>1</th>\n",
              "      <td>31.991817</td>\n",
              "      <td>0.764427</td>\n",
              "      <td>0.957364</td>\n",
              "      <td>16.524763</td>\n",
              "      <td>0.036176</td>\n",
              "      <td>20.201981</td>\n",
              "      <td>2.798450</td>\n",
              "      <td>90.891473</td>\n",
              "      <td>62.565891</td>\n",
              "      <td>28.224806</td>\n",
              "      <td>...</td>\n",
              "      <td>557.139535</td>\n",
              "      <td>3.384582</td>\n",
              "      <td>4.288975</td>\n",
              "      <td>1.278639</td>\n",
              "      <td>7.540913</td>\n",
              "      <td>1.694229</td>\n",
              "      <td>8.625754</td>\n",
              "      <td>3.477175</td>\n",
              "      <td>1.524978</td>\n",
              "      <td>2.021533</td>\n",
              "    </tr>\n",
              "    <tr>\n",
              "      <th>2</th>\n",
              "      <td>32.000794</td>\n",
              "      <td>0.779984</td>\n",
              "      <td>1.918983</td>\n",
              "      <td>16.738046</td>\n",
              "      <td>0.059571</td>\n",
              "      <td>14.509929</td>\n",
              "      <td>2.924543</td>\n",
              "      <td>12.657665</td>\n",
              "      <td>8.482923</td>\n",
              "      <td>4.416203</td>\n",
              "      <td>...</td>\n",
              "      <td>82.289118</td>\n",
              "      <td>3.493249</td>\n",
              "      <td>3.853852</td>\n",
              "      <td>1.354249</td>\n",
              "      <td>7.139793</td>\n",
              "      <td>1.656076</td>\n",
              "      <td>9.119936</td>\n",
              "      <td>3.374901</td>\n",
              "      <td>1.194599</td>\n",
              "      <td>1.878475</td>\n",
              "    </tr>\n",
              "  </tbody>\n",
              "</table>\n",
              "<p>3 rows × 21 columns</p>\n",
              "</div>\n",
              "    <div class=\"colab-df-buttons\">\n",
              "\n",
              "  <div class=\"colab-df-container\">\n",
              "    <button class=\"colab-df-convert\" onclick=\"convertToInteractive('df-14ed6436-d33b-42d0-8758-cb2f1e20e2f4')\"\n",
              "            title=\"Convert this dataframe to an interactive table.\"\n",
              "            style=\"display:none;\">\n",
              "\n",
              "  <svg xmlns=\"http://www.w3.org/2000/svg\" height=\"24px\" viewBox=\"0 -960 960 960\">\n",
              "    <path d=\"M120-120v-720h720v720H120Zm60-500h600v-160H180v160Zm220 220h160v-160H400v160Zm0 220h160v-160H400v160ZM180-400h160v-160H180v160Zm440 0h160v-160H620v160ZM180-180h160v-160H180v160Zm440 0h160v-160H620v160Z\"/>\n",
              "  </svg>\n",
              "    </button>\n",
              "\n",
              "  <style>\n",
              "    .colab-df-container {\n",
              "      display:flex;\n",
              "      gap: 12px;\n",
              "    }\n",
              "\n",
              "    .colab-df-convert {\n",
              "      background-color: #E8F0FE;\n",
              "      border: none;\n",
              "      border-radius: 50%;\n",
              "      cursor: pointer;\n",
              "      display: none;\n",
              "      fill: #1967D2;\n",
              "      height: 32px;\n",
              "      padding: 0 0 0 0;\n",
              "      width: 32px;\n",
              "    }\n",
              "\n",
              "    .colab-df-convert:hover {\n",
              "      background-color: #E2EBFA;\n",
              "      box-shadow: 0px 1px 2px rgba(60, 64, 67, 0.3), 0px 1px 3px 1px rgba(60, 64, 67, 0.15);\n",
              "      fill: #174EA6;\n",
              "    }\n",
              "\n",
              "    .colab-df-buttons div {\n",
              "      margin-bottom: 4px;\n",
              "    }\n",
              "\n",
              "    [theme=dark] .colab-df-convert {\n",
              "      background-color: #3B4455;\n",
              "      fill: #D2E3FC;\n",
              "    }\n",
              "\n",
              "    [theme=dark] .colab-df-convert:hover {\n",
              "      background-color: #434B5C;\n",
              "      box-shadow: 0px 1px 3px 1px rgba(0, 0, 0, 0.15);\n",
              "      filter: drop-shadow(0px 1px 2px rgba(0, 0, 0, 0.3));\n",
              "      fill: #FFFFFF;\n",
              "    }\n",
              "  </style>\n",
              "\n",
              "    <script>\n",
              "      const buttonEl =\n",
              "        document.querySelector('#df-14ed6436-d33b-42d0-8758-cb2f1e20e2f4 button.colab-df-convert');\n",
              "      buttonEl.style.display =\n",
              "        google.colab.kernel.accessAllowed ? 'block' : 'none';\n",
              "\n",
              "      async function convertToInteractive(key) {\n",
              "        const element = document.querySelector('#df-14ed6436-d33b-42d0-8758-cb2f1e20e2f4');\n",
              "        const dataTable =\n",
              "          await google.colab.kernel.invokeFunction('convertToInteractive',\n",
              "                                                    [key], {});\n",
              "        if (!dataTable) return;\n",
              "\n",
              "        const docLinkHtml = 'Like what you see? Visit the ' +\n",
              "          '<a target=\"_blank\" href=https://colab.research.google.com/notebooks/data_table.ipynb>data table notebook</a>'\n",
              "          + ' to learn more about interactive tables.';\n",
              "        element.innerHTML = '';\n",
              "        dataTable['output_type'] = 'display_data';\n",
              "        await google.colab.output.renderOutput(dataTable, element);\n",
              "        const docLink = document.createElement('div');\n",
              "        docLink.innerHTML = docLinkHtml;\n",
              "        element.appendChild(docLink);\n",
              "      }\n",
              "    </script>\n",
              "  </div>\n",
              "\n",
              "\n",
              "    <div id=\"df-3cc93e8a-8b96-48a8-9fa0-87641bbcdec5\">\n",
              "      <button class=\"colab-df-quickchart\" onclick=\"quickchart('df-3cc93e8a-8b96-48a8-9fa0-87641bbcdec5')\"\n",
              "                title=\"Suggest charts\"\n",
              "                style=\"display:none;\">\n",
              "\n",
              "<svg xmlns=\"http://www.w3.org/2000/svg\" height=\"24px\"viewBox=\"0 0 24 24\"\n",
              "     width=\"24px\">\n",
              "    <g>\n",
              "        <path d=\"M19 3H5c-1.1 0-2 .9-2 2v14c0 1.1.9 2 2 2h14c1.1 0 2-.9 2-2V5c0-1.1-.9-2-2-2zM9 17H7v-7h2v7zm4 0h-2V7h2v10zm4 0h-2v-4h2v4z\"/>\n",
              "    </g>\n",
              "</svg>\n",
              "      </button>\n",
              "\n",
              "<style>\n",
              "  .colab-df-quickchart {\n",
              "      --bg-color: #E8F0FE;\n",
              "      --fill-color: #1967D2;\n",
              "      --hover-bg-color: #E2EBFA;\n",
              "      --hover-fill-color: #174EA6;\n",
              "      --disabled-fill-color: #AAA;\n",
              "      --disabled-bg-color: #DDD;\n",
              "  }\n",
              "\n",
              "  [theme=dark] .colab-df-quickchart {\n",
              "      --bg-color: #3B4455;\n",
              "      --fill-color: #D2E3FC;\n",
              "      --hover-bg-color: #434B5C;\n",
              "      --hover-fill-color: #FFFFFF;\n",
              "      --disabled-bg-color: #3B4455;\n",
              "      --disabled-fill-color: #666;\n",
              "  }\n",
              "\n",
              "  .colab-df-quickchart {\n",
              "    background-color: var(--bg-color);\n",
              "    border: none;\n",
              "    border-radius: 50%;\n",
              "    cursor: pointer;\n",
              "    display: none;\n",
              "    fill: var(--fill-color);\n",
              "    height: 32px;\n",
              "    padding: 0;\n",
              "    width: 32px;\n",
              "  }\n",
              "\n",
              "  .colab-df-quickchart:hover {\n",
              "    background-color: var(--hover-bg-color);\n",
              "    box-shadow: 0 1px 2px rgba(60, 64, 67, 0.3), 0 1px 3px 1px rgba(60, 64, 67, 0.15);\n",
              "    fill: var(--button-hover-fill-color);\n",
              "  }\n",
              "\n",
              "  .colab-df-quickchart-complete:disabled,\n",
              "  .colab-df-quickchart-complete:disabled:hover {\n",
              "    background-color: var(--disabled-bg-color);\n",
              "    fill: var(--disabled-fill-color);\n",
              "    box-shadow: none;\n",
              "  }\n",
              "\n",
              "  .colab-df-spinner {\n",
              "    border: 2px solid var(--fill-color);\n",
              "    border-color: transparent;\n",
              "    border-bottom-color: var(--fill-color);\n",
              "    animation:\n",
              "      spin 1s steps(1) infinite;\n",
              "  }\n",
              "\n",
              "  @keyframes spin {\n",
              "    0% {\n",
              "      border-color: transparent;\n",
              "      border-bottom-color: var(--fill-color);\n",
              "      border-left-color: var(--fill-color);\n",
              "    }\n",
              "    20% {\n",
              "      border-color: transparent;\n",
              "      border-left-color: var(--fill-color);\n",
              "      border-top-color: var(--fill-color);\n",
              "    }\n",
              "    30% {\n",
              "      border-color: transparent;\n",
              "      border-left-color: var(--fill-color);\n",
              "      border-top-color: var(--fill-color);\n",
              "      border-right-color: var(--fill-color);\n",
              "    }\n",
              "    40% {\n",
              "      border-color: transparent;\n",
              "      border-right-color: var(--fill-color);\n",
              "      border-top-color: var(--fill-color);\n",
              "    }\n",
              "    60% {\n",
              "      border-color: transparent;\n",
              "      border-right-color: var(--fill-color);\n",
              "    }\n",
              "    80% {\n",
              "      border-color: transparent;\n",
              "      border-right-color: var(--fill-color);\n",
              "      border-bottom-color: var(--fill-color);\n",
              "    }\n",
              "    90% {\n",
              "      border-color: transparent;\n",
              "      border-bottom-color: var(--fill-color);\n",
              "    }\n",
              "  }\n",
              "</style>\n",
              "\n",
              "      <script>\n",
              "        async function quickchart(key) {\n",
              "          const quickchartButtonEl =\n",
              "            document.querySelector('#' + key + ' button');\n",
              "          quickchartButtonEl.disabled = true;  // To prevent multiple clicks.\n",
              "          quickchartButtonEl.classList.add('colab-df-spinner');\n",
              "          try {\n",
              "            const charts = await google.colab.kernel.invokeFunction(\n",
              "                'suggestCharts', [key], {});\n",
              "          } catch (error) {\n",
              "            console.error('Error during call to suggestCharts:', error);\n",
              "          }\n",
              "          quickchartButtonEl.classList.remove('colab-df-spinner');\n",
              "          quickchartButtonEl.classList.add('colab-df-quickchart-complete');\n",
              "        }\n",
              "        (() => {\n",
              "          let quickchartButtonEl =\n",
              "            document.querySelector('#df-3cc93e8a-8b96-48a8-9fa0-87641bbcdec5 button');\n",
              "          quickchartButtonEl.style.display =\n",
              "            google.colab.kernel.accessAllowed ? 'block' : 'none';\n",
              "        })();\n",
              "      </script>\n",
              "    </div>\n",
              "\n",
              "    </div>\n",
              "  </div>\n"
            ],
            "application/vnd.google.colaboratory.intrinsic+json": {
              "type": "dataframe"
            }
          },
          "metadata": {},
          "execution_count": 38
        }
      ]
    },
    {
      "cell_type": "markdown",
      "source": [
        "### Exibição do gráfico"
      ],
      "metadata": {
        "id": "bDx3tjR2ZhQk"
      }
    },
    {
      "cell_type": "code",
      "source": [
        "from sklearn.decomposition import PCA\n",
        "import seaborn as sns\n",
        "\n",
        "# Supondo que df_encoded já tem os dados padronizados e com 'Cluster'\n",
        "\n",
        "# Remover a coluna \"Cluster\" antes do PCA\n",
        "X = df_encoded.drop(\"Cluster\", axis=1)\n",
        "\n",
        "# Padronizar\n",
        "scaler = StandardScaler()\n",
        "X_scaled = scaler.fit_transform(X)\n",
        "\n",
        "# Aplicar PCA para reduzir de n dimensões para 2\n",
        "pca = PCA(n_components=2)\n",
        "X_pca = pca.fit_transform(X)\n",
        "\n",
        "# Criar um DataFrame com os componentes e o cluster\n",
        "pca_df = pd.DataFrame(X_pca, columns=[\"Componente 1\", \"Componente 2\"])\n",
        "pca_df[\"Cluster\"] = df_encoded[\"Cluster\"].values\n",
        "\n",
        "# Plot\n",
        "plt.figure(figsize=(8,6))\n",
        "sns.scatterplot(data=pca_df, x=\"Componente 1\", y=\"Componente 2\", hue=\"Cluster\", palette=\"Set2\", s=60)\n",
        "plt.title(\"Visualização dos Clusters com PCA\")\n",
        "plt.legend(title=\"Cluster\")\n",
        "plt.grid(True)\n",
        "plt.show()\n"
      ],
      "metadata": {
        "colab": {
          "base_uri": "https://localhost:8080/",
          "height": 564
        },
        "id": "_Hz1Rw0Mz15R",
        "outputId": "b531f8e4-2852-4900-dc0b-00a6dd3d8696"
      },
      "execution_count": 39,
      "outputs": [
        {
          "output_type": "display_data",
          "data": {
            "text/plain": [
              "<Figure size 800x600 with 1 Axes>"
            ],
            "image/png": "[encoded data removed]"
          },
          "metadata": {}
        }
      ]
    },
    {
      "cell_type": "code",
      "source": [],
      "metadata": {
        "id": "bq85QLl2z0a8"
      },
      "execution_count": null,
      "outputs": []
    }
  ]
}