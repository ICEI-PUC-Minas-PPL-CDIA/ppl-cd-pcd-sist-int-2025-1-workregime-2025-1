{
 "cells": [
  {
   "cell_type": "code",
   "execution_count": null,
   "id": "707cfd5a",
   "metadata": {},
   "outputs": [],
   "source": [
    "# Instale estas bibliotecas se estiver usando localmente\n",
    "!pip install pandas scikit-learn matplotlib"
   ]
  },
  {
   "cell_type": "code",
   "execution_count": null,
   "id": "3d1cff2a",
   "metadata": {},
   "outputs": [],
   "source": [
    "import pandas as pd\n",
    "from sklearn.tree import DecisionTreeClassifier, plot_tree\n",
    "from sklearn.model_selection import train_test_split\n",
    "from sklearn.preprocessing import LabelEncoder\n",
    "from sklearn.metrics import accuracy_score, classification_report, confusion_matrix\n",
    "import matplotlib.pyplot as plt"
   ]
  },
  {
   "cell_type": "code",
   "execution_count": null,
   "id": "4263cfde",
   "metadata": {},
   "outputs": [],
   "source": [
    "df = pd.read_csv(\"data_tratada.csv\")"
   ]
  },
  {
   "cell_type": "code",
   "execution_count": null,
   "id": "2fc5dc36",
   "metadata": {},
   "outputs": [],
   "source": [
    "df = df.dropna(subset=[\"Forma de trabalho ideal\"])"
   ]
  },
  {
   "cell_type": "code",
   "execution_count": null,
   "id": "14ea66ea",
   "metadata": {},
   "outputs": [],
   "source": [
    "X = df.drop(columns=[\"Forma de trabalho ideal\", \"Cargo atual\"])\n",
    "y = df[\"Forma de trabalho ideal\"]"
   ]
  },
  {
   "cell_type": "code",
   "execution_count": null,
   "id": "4d2cfba3",
   "metadata": {},
   "outputs": [],
   "source": [
    "for col in X.columns:\n",
    "    if X[col].dtype == 'object':\n",
    "        X[col].fillna(X[col].mode()[0], inplace=True)\n",
    "    else:\n",
    "        X[col].fillna(X[col].mean(), inplace=True)"
   ]
  },
  {
   "cell_type": "code",
   "execution_count": null,
   "id": "523f9fa5",
   "metadata": {},
   "outputs": [],
   "source": [
    "X_encoded = pd.get_dummies(X)\n",
    "le = LabelEncoder()\n",
    "y_encoded = le.fit_transform(y)"
   ]
  },
  {
   "cell_type": "code",
   "execution_count": null,
   "id": "280c1494",
   "metadata": {},
   "outputs": [],
   "source": [
    "X_train, X_test, y_train, y_test = train_test_split(X_encoded, y_encoded, test_size=0.3, random_state=42)"
   ]
  },
  {
   "cell_type": "code",
   "execution_count": null,
   "id": "43e0f935",
   "metadata": {},
   "outputs": [],
   "source": [
    "clf = DecisionTreeClassifier(criterion=\"entropy\", random_state=0)\n",
    "clf.fit(X_train, y_train)"
   ]
  },
  {
   "cell_type": "code",
   "execution_count": null,
   "id": "4f57f360",
   "metadata": {},
   "outputs": [],
   "source": [
    "y_pred = clf.predict(X_test)\n",
    "print(\"Acurçácia:\", accuracy_score(y_test, y_pred))\n",
    "print(\"\\nRelatório de Classificação:\\n\", classification_report(y_test, y_pred, target_names=le.classes_))\n",
    "print(\"Matriz de Confusção:\\n\", confusion_matrix(y_test, y_pred))"
   ]
  },
  {
   "cell_type": "code",
   "execution_count": null,
   "id": "d4fcf7d9",
   "metadata": {},
   "outputs": [],
   "source": [
    "plt.figure(figsize=(20, 10))\n",
    "plot_tree(clf, feature_names=X_encoded.columns, class_names=le.classes_, filled=True, rounded=True)\n",
    "plt.title(\"Arvore de Decisão - Forma de Trabalho Ideal\")\n",
    "plt.show()"
   ]
  }
 ],
 "metadata": {
  "language_info": {
   "name": "python"
  }
 },
 "nbformat": 4,
 "nbformat_minor": 5
}
